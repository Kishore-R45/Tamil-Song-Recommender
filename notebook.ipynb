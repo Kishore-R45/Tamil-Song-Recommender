{
 "cells": [
  {
   "cell_type": "code",
   "execution_count": 3,
   "id": "4deaca13",
   "metadata": {},
   "outputs": [
    {
     "name": "stdout",
     "output_type": "stream",
     "text": [
      "Index(['Sno', 'Song Name', 'Movie Name', 'Lyrics'], dtype='object')\n",
      "(4216, 4)\n"
     ]
    },
    {
     "data": {
      "text/html": [
       "<div>\n",
       "<style scoped>\n",
       "    .dataframe tbody tr th:only-of-type {\n",
       "        vertical-align: middle;\n",
       "    }\n",
       "\n",
       "    .dataframe tbody tr th {\n",
       "        vertical-align: top;\n",
       "    }\n",
       "\n",
       "    .dataframe thead th {\n",
       "        text-align: right;\n",
       "    }\n",
       "</style>\n",
       "<table border=\"1\" class=\"dataframe\">\n",
       "  <thead>\n",
       "    <tr style=\"text-align: right;\">\n",
       "      <th></th>\n",
       "      <th>Sno</th>\n",
       "      <th>Song Name</th>\n",
       "      <th>Movie Name</th>\n",
       "      <th>Lyrics</th>\n",
       "    </tr>\n",
       "  </thead>\n",
       "  <tbody>\n",
       "    <tr>\n",
       "      <th>0</th>\n",
       "      <td>1</td>\n",
       "      <td>விளையாடா படகோட்டி</td>\n",
       "      <td>Dhoni</td>\n",
       "      <td>விளையாட்டா படகோட்டி\\nவிளையாடும் பருவம் போய்\\nந...</td>\n",
       "    </tr>\n",
       "    <tr>\n",
       "      <th>1</th>\n",
       "      <td>2</td>\n",
       "      <td>நான் யார் நீ யார்</td>\n",
       "      <td>Kudiyirundha Koyil</td>\n",
       "      <td>நான் யார் நான் யார் நீ யார்\\nநாலும் தெரிந்தவர்...</td>\n",
       "    </tr>\n",
       "    <tr>\n",
       "      <th>2</th>\n",
       "      <td>3</td>\n",
       "      <td>கூட்டத்துலே கோவில்</td>\n",
       "      <td>Idaya Kovil</td>\n",
       "      <td>கூட்டத்துலே கோவில் புறா யாரை இங்கு தேடுதம்மா\\n...</td>\n",
       "    </tr>\n",
       "    <tr>\n",
       "      <th>3</th>\n",
       "      <td>4</td>\n",
       "      <td>காதல் கசாட்டா</td>\n",
       "      <td>Kappal</td>\n",
       "      <td>காதல் கசாட்டா நெஞ்சில் இனிக்கூட\\nபசுந்தி பார்வ...</td>\n",
       "    </tr>\n",
       "    <tr>\n",
       "      <th>4</th>\n",
       "      <td>5</td>\n",
       "      <td>கண்ணுக்கு குலமேது</td>\n",
       "      <td>Karnan</td>\n",
       "      <td>கண்ணுக்கு குலமேது...\\n\\nகண்ணுக்கு குலமேது \\nகண...</td>\n",
       "    </tr>\n",
       "  </tbody>\n",
       "</table>\n",
       "</div>"
      ],
      "text/plain": [
       "   Sno           Song Name          Movie Name  \\\n",
       "0    1   விளையாடா படகோட்டி               Dhoni   \n",
       "1    2   நான் யார் நீ யார்  Kudiyirundha Koyil   \n",
       "2    3  கூட்டத்துலே கோவில்         Idaya Kovil   \n",
       "3    4       காதல் கசாட்டா              Kappal   \n",
       "4    5   கண்ணுக்கு குலமேது              Karnan   \n",
       "\n",
       "                                              Lyrics  \n",
       "0  விளையாட்டா படகோட்டி\\nவிளையாடும் பருவம் போய்\\nந...  \n",
       "1  நான் யார் நான் யார் நீ யார்\\nநாலும் தெரிந்தவர்...  \n",
       "2  கூட்டத்துலே கோவில் புறா யாரை இங்கு தேடுதம்மா\\n...  \n",
       "3  காதல் கசாட்டா நெஞ்சில் இனிக்கூட\\nபசுந்தி பார்வ...  \n",
       "4  கண்ணுக்கு குலமேது...\\n\\nகண்ணுக்கு குலமேது \\nகண...  "
      ]
     },
     "execution_count": 3,
     "metadata": {},
     "output_type": "execute_result"
    }
   ],
   "source": [
    "import pandas as pd\n",
    "df = pd.read_csv(\"dataset/tamil_songs.csv\")\n",
    "print(df.columns)\n",
    "print(df.shape)\n",
    "df.head()\n"
   ]
  }
 ],
 "metadata": {
  "kernelspec": {
   "display_name": ".venv",
   "language": "python",
   "name": "python3"
  },
  "language_info": {
   "codemirror_mode": {
    "name": "ipython",
    "version": 3
   },
   "file_extension": ".py",
   "mimetype": "text/x-python",
   "name": "python",
   "nbconvert_exporter": "python",
   "pygments_lexer": "ipython3",
   "version": "3.13.7"
  }
 },
 "nbformat": 4,
 "nbformat_minor": 5
}
